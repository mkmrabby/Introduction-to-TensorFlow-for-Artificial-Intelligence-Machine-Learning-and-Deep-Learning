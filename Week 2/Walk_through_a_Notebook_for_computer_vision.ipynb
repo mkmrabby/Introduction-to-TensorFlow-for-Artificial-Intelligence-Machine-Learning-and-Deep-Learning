{
  "nbformat": 4,
  "nbformat_minor": 0,
  "metadata": {
    "colab": {
      "name": "Walk through a Notebook for computer vision.ipynb",
      "provenance": [],
      "collapsed_sections": []
    },
    "kernelspec": {
      "name": "python3",
      "display_name": "Python 3"
    }
  },
  "cells": [
    {
      "cell_type": "markdown",
      "metadata": {
        "id": "eRZHfk5zMtyQ",
        "colab_type": "text"
      },
      "source": [
        "**Import Library**"
      ]
    },
    {
      "cell_type": "code",
      "metadata": {
        "id": "aX8ZiDE_LsAO",
        "colab_type": "code",
        "colab": {}
      },
      "source": [
        "import tensorflow as tf\n",
        "from tensorflow import keras\n",
        "import numpy as np\n",
        "import matplotlib.pyplot as plt"
      ],
      "execution_count": 0,
      "outputs": []
    },
    {
      "cell_type": "markdown",
      "metadata": {
        "id": "MHIIt-yEM4Z2",
        "colab_type": "text"
      },
      "source": [
        "**Import Datasets**"
      ]
    },
    {
      "cell_type": "code",
      "metadata": {
        "id": "4liJ-PybLLU_",
        "colab_type": "code",
        "colab": {}
      },
      "source": [
        "fashion_mnist=keras.datasets.fashion_mnist"
      ],
      "execution_count": 0,
      "outputs": []
    },
    {
      "cell_type": "code",
      "metadata": {
        "id": "ym8-cFn1LYTF",
        "colab_type": "code",
        "colab": {}
      },
      "source": [
        "(train_images, train_labels), (test_images, test_labels) = fashion_mnist.load_data()"
      ],
      "execution_count": 0,
      "outputs": []
    },
    {
      "cell_type": "markdown",
      "metadata": {
        "id": "AbkY8UIma1FU",
        "colab_type": "text"
      },
      "source": [
        "**Normalizing the Data**"
      ]
    },
    {
      "cell_type": "code",
      "metadata": {
        "id": "T1vxRRysa0Zu",
        "colab_type": "code",
        "colab": {}
      },
      "source": [
        "train_images=train_images/255.0"
      ],
      "execution_count": 0,
      "outputs": []
    },
    {
      "cell_type": "code",
      "metadata": {
        "id": "-MJ-mm9mbDak",
        "colab_type": "code",
        "colab": {}
      },
      "source": [
        "test_images=test_images/255.0"
      ],
      "execution_count": 0,
      "outputs": []
    },
    {
      "cell_type": "markdown",
      "metadata": {
        "id": "sHUDZ2I7ReKB",
        "colab_type": "text"
      },
      "source": [
        "**Model Definition**"
      ]
    },
    {
      "cell_type": "code",
      "metadata": {
        "id": "69DZzvkWRiS9",
        "colab_type": "code",
        "colab": {}
      },
      "source": [
        "model=keras.Sequential([keras.layers.Flatten(input_shape=(28,28)),\n",
        "                        keras.layers.Dense(units=128,activation=tf.nn.relu),\n",
        "                        keras.layers.Dense(units=10,activation=tf.nn.softmax)                        \n",
        "                        ])"
      ],
      "execution_count": 0,
      "outputs": []
    },
    {
      "cell_type": "markdown",
      "metadata": {
        "id": "hW7UvJyjTetl",
        "colab_type": "text"
      },
      "source": [
        "**Plotting Label Data**"
      ]
    },
    {
      "cell_type": "code",
      "metadata": {
        "id": "GC6g1IsTT7l-",
        "colab_type": "code",
        "colab": {
          "base_uri": "https://localhost:8080/",
          "height": 282
        },
        "outputId": "06018758-00ea-4040-a481-b0152e87c9a3"
      },
      "source": [
        "plt.imshow(train_images[42])"
      ],
      "execution_count": 66,
      "outputs": [
        {
          "output_type": "execute_result",
          "data": {
            "text/plain": [
              "<matplotlib.image.AxesImage at 0x7f4e69675748>"
            ]
          },
          "metadata": {
            "tags": []
          },
          "execution_count": 66
        },
        {
          "output_type": "display_data",
          "data": {
            "image/png": "[encoded data removed]",
            "text/plain": [
              "<Figure size 432x288 with 1 Axes>"
            ]
          },
          "metadata": {
            "tags": [],
            "needs_background": "light"
          }
        }
      ]
    },
    {
      "cell_type": "code",
      "metadata": {
        "id": "608y8clFTeG-",
        "colab_type": "code",
        "colab": {
          "base_uri": "https://localhost:8080/",
          "height": 34
        },
        "outputId": "6101ae56-7005-4d50-9910-7eef1b3bb72c"
      },
      "source": [
        "print(train_labels[42])"
      ],
      "execution_count": 67,
      "outputs": [
        {
          "output_type": "stream",
          "text": [
            "9\n"
          ],
          "name": "stdout"
        }
      ]
    },
    {
      "cell_type": "code",
      "metadata": {
        "id": "gfkD3SgbU1N2",
        "colab_type": "code",
        "colab": {
          "base_uri": "https://localhost:8080/",
          "height": 1000
        },
        "outputId": "f509a14a-bbd7-4961-ae21-ec494e727509"
      },
      "source": [
        "print(train_images[42])"
      ],
      "execution_count": 68,
      "outputs": [
        {
          "output_type": "stream",
          "text": [
            "[[0.         0.         0.         0.         0.         0.\n",
            "  0.         0.         0.         0.         0.         0.\n",
            "  0.         0.         0.         0.         0.         0.\n",
            "  0.         0.         0.         0.         0.         0.\n",
            "  0.         0.         0.         0.        ]\n",
            " [0.         0.         0.         0.         0.         0.\n",
            "  0.         0.         0.         0.         0.         0.\n",
            "  0.         0.         0.         0.         0.         0.\n",
            "  0.         0.         0.         0.         0.         0.\n",
            "  0.         0.         0.         0.        ]\n",
            " [0.         0.         0.         0.         0.         0.\n",
            "  0.         0.         0.         0.         0.         0.\n",
            "  0.         0.         0.         0.         0.         0.\n",
            "  0.         0.         0.         0.         0.         0.\n",
            "  0.         0.         0.         0.        ]\n",
            " [0.         0.         0.         0.         0.         0.\n",
            "  0.         0.         0.         0.         0.         0.\n",
            "  0.         0.         0.         0.         0.         0.\n",
            "  0.         0.         0.         0.         0.         0.\n",
            "  0.         0.         0.         0.        ]\n",
            " [0.         0.         0.         0.         0.         0.\n",
            "  0.         0.         0.         0.         0.         0.\n",
            "  0.         0.         0.         0.         0.         0.\n",
            "  0.         0.         0.         0.         0.         0.\n",
            "  0.         0.         0.         0.        ]\n",
            " [0.         0.         0.         0.         0.         0.\n",
            "  0.         0.         0.         0.         0.         0.\n",
            "  0.         0.         0.         0.         0.32156863 0.73333333\n",
            "  0.10196078 0.         0.         0.         0.         0.\n",
            "  0.         0.         0.         0.        ]\n",
            " [0.         0.         0.         0.         0.         0.\n",
            "  0.         0.         0.         0.00392157 0.         0.\n",
            "  0.00392157 0.         0.         0.70196078 0.94117647 0.92941176\n",
            "  1.         0.94117647 0.54509804 0.3254902  0.25098039 0.16862745\n",
            "  0.23529412 0.21176471 0.         0.00392157]\n",
            " [0.         0.         0.         0.         0.         0.\n",
            "  0.         0.         0.         0.00392157 0.         0.\n",
            "  0.00392157 0.         0.22745098 0.9372549  0.87058824 0.91764706\n",
            "  0.93333333 0.96470588 0.98823529 0.99607843 1.         0.97254902\n",
            "  1.         0.73333333 0.         0.        ]\n",
            " [0.         0.         0.         0.         0.         0.\n",
            "  0.         0.         0.         0.         0.00784314 0.01176471\n",
            "  0.         0.         0.76078431 0.9372549  0.88627451 0.92941176\n",
            "  0.92156863 0.90980392 0.90196078 0.91764706 0.91764706 0.91372549\n",
            "  0.97647059 0.67058824 0.         0.        ]\n",
            " [0.         0.         0.         0.         0.         0.\n",
            "  0.         0.         0.         0.00392157 0.00392157 0.\n",
            "  0.         0.03921569 1.         0.88627451 0.94901961 0.9372549\n",
            "  0.93333333 0.9372549  0.94117647 0.9372549  0.94901961 0.93333333\n",
            "  0.97254902 0.75294118 0.         0.        ]\n",
            " [0.         0.         0.         0.         0.         0.\n",
            "  0.         0.         0.         0.         0.         0.\n",
            "  0.         0.6745098  0.96078431 0.89803922 0.94117647 0.94509804\n",
            "  0.94117647 0.94509804 0.95294118 0.95294118 0.94509804 0.89019608\n",
            "  0.98039216 0.81960784 0.         0.        ]\n",
            " [0.         0.         0.         0.         0.         0.\n",
            "  0.         0.         0.         0.02352941 0.01960784 0.\n",
            "  0.24313725 1.         0.90196078 0.9254902  0.9372549  0.94509804\n",
            "  0.94901961 0.94509804 0.94901961 0.94901961 0.93333333 0.93333333\n",
            "  0.94901961 0.99215686 0.         0.        ]\n",
            " [0.         0.         0.         0.         0.         0.\n",
            "  0.         0.         0.         0.01176471 0.         0.\n",
            "  1.         0.92156863 0.89411765 0.95686275 0.94509804 0.94509804\n",
            "  0.95686275 0.95294118 0.95294118 0.95686275 0.95294118 0.9372549\n",
            "  0.92156863 1.         0.08627451 0.        ]\n",
            " [0.         0.         0.         0.         0.         0.\n",
            "  0.         0.         0.         0.         0.         0.96470588\n",
            "  0.89411765 0.8627451  0.96078431 0.95294118 0.92941176 0.94509804\n",
            "  0.94901961 0.94901961 0.94901961 0.95294118 0.9372549  0.92941176\n",
            "  0.92156863 0.99215686 0.41568627 0.        ]\n",
            " [0.         0.         0.01176471 0.01568627 0.01568627 0.00784314\n",
            "  0.00392157 0.         0.         0.07058824 0.95294118 0.89411765\n",
            "  0.90588235 0.94509804 0.95294118 0.92941176 0.93333333 0.94901961\n",
            "  0.94509804 0.94117647 0.94117647 0.94117647 0.92156863 0.92941176\n",
            "  0.9254902  0.96470588 0.91764706 0.        ]\n",
            " [0.00392157 0.         0.         0.         0.         0.\n",
            "  0.         0.         0.08627451 1.         0.93333333 0.89019608\n",
            "  0.93333333 0.9372549  0.92941176 0.94509804 0.94509804 0.92941176\n",
            "  0.9254902  0.93333333 0.9372549  0.9372549  0.9372549  0.9372549\n",
            "  0.9372549  0.92941176 1.         0.        ]\n",
            " [0.         0.         0.         0.         0.         0.09803922\n",
            "  0.3254902  0.65882353 1.         0.88235294 0.88235294 0.92156863\n",
            "  0.89411765 0.90196078 0.89019608 0.88235294 0.89019608 0.90588235\n",
            "  0.90980392 0.92941176 0.94117647 0.9254902  0.93333333 0.9372549\n",
            "  0.9372549  0.92156863 0.98431373 0.24313725]\n",
            " [0.         0.64705882 0.88235294 0.8627451  0.87843137 1.\n",
            "  1.         0.91372549 0.89803922 0.8745098  0.89019608 0.89411765\n",
            "  0.90588235 0.90980392 0.92156863 0.92941176 0.91372549 0.90196078\n",
            "  0.89411765 0.90196078 0.91372549 0.90980392 0.92156863 0.91372549\n",
            "  0.91764706 0.92156863 1.         0.22745098]\n",
            " [0.20392157 0.98431373 0.86666667 0.88627451 0.89019608 0.88235294\n",
            "  0.88235294 0.88235294 0.88627451 0.88627451 0.88235294 0.89019608\n",
            "  0.90588235 0.89803922 0.90980392 0.9372549  0.96078431 0.98039216\n",
            "  0.98431373 0.98823529 0.99607843 0.99607843 0.98823529 0.99607843\n",
            "  0.98823529 0.92156863 1.         0.        ]\n",
            " [0.12156863 0.81568627 0.90196078 0.91372549 0.91372549 0.92941176\n",
            "  0.9254902  0.9254902  0.94509804 0.92156863 0.94509804 0.96862745\n",
            "  0.98431373 0.99607843 0.94901961 0.9254902  0.91372549 0.89019608\n",
            "  0.85882353 0.79215686 0.75686275 0.74117647 0.72941176 0.70980392\n",
            "  0.67058824 0.64705882 0.74509804 0.16470588]\n",
            " [0.30196078 0.78039216 0.6745098  0.7372549  0.78039216 0.79215686\n",
            "  0.85490196 0.85882353 0.8627451  0.89803922 0.91764706 0.87058824\n",
            "  0.83529412 0.81960784 0.81176471 0.82352941 0.79607843 0.72156863\n",
            "  0.59607843 0.67058824 0.64705882 0.63529412 0.63529412 0.65490196\n",
            "  0.65882353 0.61568627 0.75294118 0.30588235]\n",
            " [0.         0.17647059 0.39607843 0.54901961 0.62352941 0.68235294\n",
            "  0.71372549 0.72941176 0.7254902  0.7372549  0.76470588 0.77254902\n",
            "  0.7372549  0.68627451 0.52156863 0.2745098  0.0745098  0.\n",
            "  0.         0.81960784 0.90588235 0.85490196 0.87058824 0.87843137\n",
            "  0.89019608 0.85098039 0.89803922 0.36470588]\n",
            " [0.         0.         0.         0.         0.         0.\n",
            "  0.00784314 0.09411765 0.14509804 0.17647059 0.1254902  0.07058824\n",
            "  0.04313725 0.         0.         0.         0.         0.\n",
            "  0.         0.28235294 0.2        0.20784314 0.14509804 0.13333333\n",
            "  0.11372549 0.12156863 0.01960784 0.        ]\n",
            " [0.         0.         0.         0.         0.         0.\n",
            "  0.         0.         0.         0.         0.         0.\n",
            "  0.         0.         0.         0.         0.         0.\n",
            "  0.         0.         0.         0.         0.         0.\n",
            "  0.         0.         0.         0.        ]\n",
            " [0.         0.         0.         0.         0.         0.\n",
            "  0.         0.         0.         0.         0.         0.\n",
            "  0.         0.         0.         0.         0.         0.\n",
            "  0.         0.         0.         0.         0.         0.\n",
            "  0.         0.         0.         0.        ]\n",
            " [0.         0.         0.         0.         0.         0.\n",
            "  0.         0.         0.         0.         0.         0.\n",
            "  0.         0.         0.         0.         0.         0.\n",
            "  0.         0.         0.         0.         0.         0.\n",
            "  0.         0.         0.         0.        ]\n",
            " [0.         0.         0.         0.         0.         0.\n",
            "  0.         0.         0.         0.         0.         0.\n",
            "  0.         0.         0.         0.         0.         0.\n",
            "  0.         0.         0.         0.         0.         0.\n",
            "  0.         0.         0.         0.        ]\n",
            " [0.         0.         0.         0.         0.         0.\n",
            "  0.         0.         0.         0.         0.         0.\n",
            "  0.         0.         0.         0.         0.         0.\n",
            "  0.         0.         0.         0.         0.         0.\n",
            "  0.         0.         0.         0.        ]]\n"
          ],
          "name": "stdout"
        }
      ]
    },
    {
      "cell_type": "markdown",
      "metadata": {
        "id": "fuhBxE95XDie",
        "colab_type": "text"
      },
      "source": [
        "**Compile the Model**"
      ]
    },
    {
      "cell_type": "code",
      "metadata": {
        "id": "MVsU6XtGVonn",
        "colab_type": "code",
        "colab": {}
      },
      "source": [
        "model.compile(optimizer=tf.optimizers.Adam(),\n",
        "              loss='sparse_categorical_crossentropy')"
      ],
      "execution_count": 0,
      "outputs": []
    },
    {
      "cell_type": "markdown",
      "metadata": {
        "id": "BMwptF1XXIHV",
        "colab_type": "text"
      },
      "source": [
        "**Fit the Model**"
      ]
    },
    {
      "cell_type": "code",
      "metadata": {
        "id": "-mySEF6IWIvF",
        "colab_type": "code",
        "colab": {
          "base_uri": "https://localhost:8080/",
          "height": 714
        },
        "outputId": "6e54974a-b9a4-4fca-89da-4222ac1b900b"
      },
      "source": [
        "model.fit(train_images, train_labels, epochs=20)"
      ],
      "execution_count": 72,
      "outputs": [
        {
          "output_type": "stream",
          "text": [
            "Epoch 1/20\n",
            "1875/1875 [==============================] - 3s 2ms/step - loss: 0.2028\n",
            "Epoch 2/20\n",
            "1875/1875 [==============================] - 3s 2ms/step - loss: 0.1968\n",
            "Epoch 3/20\n",
            "1875/1875 [==============================] - 3s 2ms/step - loss: 0.1913\n",
            "Epoch 4/20\n",
            "1875/1875 [==============================] - 3s 2ms/step - loss: 0.1869\n",
            "Epoch 5/20\n",
            "1875/1875 [==============================] - 3s 2ms/step - loss: 0.1822\n",
            "Epoch 6/20\n",
            "1875/1875 [==============================] - 3s 2ms/step - loss: 0.1769\n",
            "Epoch 7/20\n",
            "1875/1875 [==============================] - 3s 2ms/step - loss: 0.1747\n",
            "Epoch 8/20\n",
            "1875/1875 [==============================] - 3s 2ms/step - loss: 0.1696\n",
            "Epoch 9/20\n",
            "1875/1875 [==============================] - 3s 2ms/step - loss: 0.1648\n",
            "Epoch 10/20\n",
            "1875/1875 [==============================] - 3s 2ms/step - loss: 0.1625\n",
            "Epoch 11/20\n",
            "1875/1875 [==============================] - 3s 2ms/step - loss: 0.1573\n",
            "Epoch 12/20\n",
            "1875/1875 [==============================] - 3s 2ms/step - loss: 0.1551\n",
            "Epoch 13/20\n",
            "1875/1875 [==============================] - 3s 2ms/step - loss: 0.1501\n",
            "Epoch 14/20\n",
            "1875/1875 [==============================] - 3s 2ms/step - loss: 0.1495\n",
            "Epoch 15/20\n",
            "1875/1875 [==============================] - 3s 2ms/step - loss: 0.1452\n",
            "Epoch 16/20\n",
            "1875/1875 [==============================] - 3s 2ms/step - loss: 0.1413\n",
            "Epoch 17/20\n",
            "1875/1875 [==============================] - 3s 2ms/step - loss: 0.1383\n",
            "Epoch 18/20\n",
            "1875/1875 [==============================] - 3s 2ms/step - loss: 0.1352\n",
            "Epoch 19/20\n",
            "1875/1875 [==============================] - 3s 2ms/step - loss: 0.1333\n",
            "Epoch 20/20\n",
            "1875/1875 [==============================] - 3s 2ms/step - loss: 0.1293\n"
          ],
          "name": "stdout"
        },
        {
          "output_type": "execute_result",
          "data": {
            "text/plain": [
              "<tensorflow.python.keras.callbacks.History at 0x7f4e6af2e0b8>"
            ]
          },
          "metadata": {
            "tags": []
          },
          "execution_count": 72
        }
      ]
    },
    {
      "cell_type": "markdown",
      "metadata": {
        "id": "bSt9KgGNXXAE",
        "colab_type": "text"
      },
      "source": [
        "**Evaluate the Model**"
      ]
    },
    {
      "cell_type": "code",
      "metadata": {
        "id": "koF_Z9quXAFv",
        "colab_type": "code",
        "colab": {
          "base_uri": "https://localhost:8080/",
          "height": 51
        },
        "outputId": "e2f39a16-e402-420c-cbd2-9787c4c384be"
      },
      "source": [
        "model.evaluate(test_images,test_labels)"
      ],
      "execution_count": 73,
      "outputs": [
        {
          "output_type": "stream",
          "text": [
            "313/313 [==============================] - 0s 1ms/step - loss: 0.4344\n"
          ],
          "name": "stdout"
        },
        {
          "output_type": "execute_result",
          "data": {
            "text/plain": [
              "0.4344080686569214"
            ]
          },
          "metadata": {
            "tags": []
          },
          "execution_count": 73
        }
      ]
    }
  ]
}