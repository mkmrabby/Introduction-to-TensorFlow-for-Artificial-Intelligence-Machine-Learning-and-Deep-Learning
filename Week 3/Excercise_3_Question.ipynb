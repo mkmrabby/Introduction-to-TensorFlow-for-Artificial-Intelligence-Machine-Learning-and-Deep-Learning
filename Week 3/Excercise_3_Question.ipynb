{
  "nbformat": 4,
  "nbformat_minor": 0,
  "metadata": {
    "colab": {
      "name": "Excercise-3-Question.ipynb",
      "provenance": [],
      "collapsed_sections": []
    },
    "kernelspec": {
      "name": "python3",
      "display_name": "Python 3"
    }
  },
  "cells": [
    {
      "cell_type": "markdown",
      "metadata": {
        "id": "ZeLJo_AYJ9Hi",
        "colab_type": "text"
      },
      "source": [
        "**Exercise 3¶**\n",
        "\n",
        "In the videos you looked at how you would improve Fashion MNIST using Convolutions. For your exercise see if you can improve MNIST to 99.8% accuracy or more using only a single convolutional layer and a single MaxPooling 2D. You should stop training once the accuracy goes above this amount. It should happen in less than 20 epochs, so it's ok to hard code the number of epochs for training, but your training must end once it hits the above metric. If it doesn't, then you'll need to redesign your layers.\n",
        "\n",
        "I've started the code for you -- you need to finish it!\n",
        "\n",
        "When 99.8% accuracy has been hit, you should print out the string \"Reached 99.8% accuracy so cancelling training!\""
      ]
    },
    {
      "cell_type": "code",
      "metadata": {
        "id": "fDkv_Hi8J0KW",
        "colab_type": "code",
        "colab": {}
      },
      "source": [
        "import tensorflow as tf\n",
        "from os import path, getcwd, chdir\n",
        "\n",
        "# DO NOT CHANGE THE LINE BELOW. If you are developing in a local\n",
        "# environment, then grab mnist.npz from the Coursera Jupyter Notebook\n",
        "# and place it inside a local folder and edit the path to that location\n",
        "# path = f\"{getcwd()}/../tmp2/mnist.npz\""
      ],
      "execution_count": 0,
      "outputs": []
    },
    {
      "cell_type": "code",
      "metadata": {
        "id": "KO49v426KL_k",
        "colab_type": "code",
        "colab": {}
      },
      "source": [
        "# config = tf.ConfigProto()\n",
        "# config.gpu_options.allow_growth = True\n",
        "# sess = tf.Session(config=config)"
      ],
      "execution_count": 0,
      "outputs": []
    },
    {
      "cell_type": "code",
      "metadata": {
        "id": "97b3MONOKOm-",
        "colab_type": "code",
        "colab": {}
      },
      "source": [
        "# GRADED FUNCTION: train_mnist_conv\n",
        "def train_mnist_conv():\n",
        "    # Please write your code only where you are indicated.\n",
        "    # please do not remove model fitting inline comments.\n",
        "    # YOUR CODE STARTS HERE\n",
        "    class myCallback(tf.keras.callbacks.Callback):\n",
        "      def on_epoch_end(self, epoch, logs={}):\n",
        "        if(logs.get('acc')>0.998):\n",
        "          self.model.stop_training=True\n",
        "    # YOUR CODE ENDS HERE\n",
        "\n",
        "    mnist = tf.keras.datasets.mnist\n",
        "    (training_images, training_labels), (test_images, test_labels) = mnist.load_data() #(path=path)\n",
        "    # YOUR CODE STARTS HERE\n",
        "    training_images=training_images.reshape(60000, 28, 28, 1)\n",
        "    training_images=training_images/255.0\n",
        "    test_images=test_images.reshape(10000, 28, 28, 1)    \n",
        "    test_images=test_images/255.0\n",
        "    callbacks=myCallback()\n",
        "    # YOUR CODE ENDS HERE\n",
        "\n",
        "    model = tf.keras.models.Sequential([\n",
        "            # YOUR CODE STARTS HERE\n",
        "            tf.keras.layers.Conv2D(64, (3,3), activation='relu', input_shape=(28, 28, 1)),\n",
        "            tf.keras.layers.MaxPooling2D(2,2),\n",
        "            tf.keras.layers.Flatten(),\n",
        "            tf.keras.layers.Dense(512, activation='relu'),\n",
        "            tf.keras.layers.Dense(10, activation='softmax')\n",
        "            # YOUR CODE ENDS HERE\n",
        "    ])\n",
        "\n",
        "    model.compile(optimizer='adam', loss='sparse_categorical_crossentropy', metrics=['acc'])\n",
        "    # model fitting\n",
        "    history = model.fit(\n",
        "        # YOUR CODE STARTS HERE\n",
        "        training_images, training_labels, epochs=20, callbacks=[callbacks]\n",
        "        # YOUR CODE ENDS HERE\n",
        "    )\n",
        "    # model fitting\n",
        "    return history.epoch, history.history['acc'][-1]"
      ],
      "execution_count": 0,
      "outputs": []
    },
    {
      "cell_type": "code",
      "metadata": {
        "id": "9jxrQPPHKT1q",
        "colab_type": "code",
        "colab": {
          "base_uri": "https://localhost:8080/",
          "height": 291
        },
        "outputId": "db8e96de-30c3-4f5a-b726-0a3166539b52"
      },
      "source": [
        "_, _ = train_mnist_conv()"
      ],
      "execution_count": 14,
      "outputs": [
        {
          "output_type": "stream",
          "text": [
            "Epoch 1/20\n",
            "1875/1875 [==============================] - 121s 64ms/step - loss: 0.1141 - acc: 0.9652\n",
            "Epoch 2/20\n",
            "1875/1875 [==============================] - 121s 65ms/step - loss: 0.0372 - acc: 0.9882\n",
            "Epoch 3/20\n",
            "1875/1875 [==============================] - 122s 65ms/step - loss: 0.0210 - acc: 0.9932\n",
            "Epoch 4/20\n",
            "1875/1875 [==============================] - 121s 65ms/step - loss: 0.0135 - acc: 0.9955\n",
            "Epoch 5/20\n",
            "1875/1875 [==============================] - 121s 65ms/step - loss: 0.0097 - acc: 0.9967\n",
            "Epoch 6/20\n",
            "1875/1875 [==============================] - 120s 64ms/step - loss: 0.0065 - acc: 0.9978\n",
            "Epoch 7/20\n",
            "1875/1875 [==============================] - 120s 64ms/step - loss: 0.0064 - acc: 0.9977\n",
            "Epoch 8/20\n",
            "1875/1875 [==============================] - 120s 64ms/step - loss: 0.0051 - acc: 0.9985\n"
          ],
          "name": "stdout"
        }
      ]
    },
    {
      "cell_type": "code",
      "metadata": {
        "id": "tUafMSNsKYGM",
        "colab_type": "code",
        "colab": {}
      },
      "source": [
        "# Now click the 'Submit Assignment' button above.\n",
        "# Once that is complete, please run the following two cells to save your work and close the notebook"
      ],
      "execution_count": 0,
      "outputs": []
    },
    {
      "cell_type": "code",
      "metadata": {
        "id": "3nKTKAiCKne0",
        "colab_type": "code",
        "colab": {}
      },
      "source": [
        "%%javascript\n",
        "<!-- Save the notebook -->\n",
        "IPython.notebook.save_checkpoint();"
      ],
      "execution_count": 0,
      "outputs": []
    },
    {
      "cell_type": "code",
      "metadata": {
        "id": "3bG04LHgKoQB",
        "colab_type": "code",
        "colab": {}
      },
      "source": [
        "%%javascript\n",
        "IPython.notebook.session.delete();\n",
        "window.onbeforeunload = null\n",
        "setTimeout(function() { window.close(); }, 1000);"
      ],
      "execution_count": 0,
      "outputs": []
    }
  ]
}