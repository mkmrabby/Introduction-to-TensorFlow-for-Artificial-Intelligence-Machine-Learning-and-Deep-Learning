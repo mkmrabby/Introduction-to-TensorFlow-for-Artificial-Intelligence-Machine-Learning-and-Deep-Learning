{
  "nbformat": 4,
  "nbformat_minor": 0,
  "metadata": {
    "colab": {
      "name": "Exercise 4 - Handling complex images.ipynb",
      "provenance": [],
      "collapsed_sections": []
    },
    "kernelspec": {
      "name": "python3",
      "display_name": "Python 3"
    }
  },
  "cells": [
    {
      "cell_type": "markdown",
      "metadata": {
        "id": "Rus2qYxPi8aR",
        "colab_type": "text"
      },
      "source": [
        "**Exercise 4 (Handling complex images)**"
      ]
    },
    {
      "cell_type": "code",
      "metadata": {
        "id": "GybjfEewmZey",
        "colab_type": "code",
        "colab": {}
      },
      "source": [
        "#@title Licensed under the Apache License, Version 2.0 (the \"License\");\n",
        "# you may not use this file except in compliance with the License.\n",
        "# You may obtain a copy of the License at\n",
        "#\n",
        "# https://www.apache.org/licenses/LICENSE-2.0\n",
        "#\n",
        "# Unless required by applicable law or agreed to in writing, software\n",
        "# distributed under the License is distributed on an \"AS IS\" BASIS,\n",
        "# WITHOUT WARRANTIES OR CONDITIONS OF ANY KIND, either express or implied.\n",
        "# See the License for the specific language governing permissions and\n",
        "# limitations under the License."
      ],
      "execution_count": 0,
      "outputs": []
    },
    {
      "cell_type": "markdown",
      "metadata": {
        "id": "uAtlrN7km2Zg",
        "colab_type": "text"
      },
      "source": [
        "Below is code with a link to a happy or sad dataset which contains 80 images, 40 happy and 40 sad. Create a convolutional neural network that trains to 100% accuracy on these images, which cancels training upon hitting training accuracy of >.999\n",
        "\n",
        "Hint -- it will work best with 3 convolutional layers."
      ]
    },
    {
      "cell_type": "code",
      "metadata": {
        "id": "Ta6wzMP8m6ER",
        "colab_type": "code",
        "colab": {
          "base_uri": "https://localhost:8080/",
          "height": 202
        },
        "outputId": "da527309-f05f-40ee-d403-d3f9fd089d14"
      },
      "source": [
        "import tensorflow as tf\n",
        "import os\n",
        "import zipfile\n",
        "\n",
        "\n",
        "DESIRED_ACCURACY = 0.999\n",
        "\n",
        "!wget --no-check-certificate \\\n",
        "    \"https://storage.googleapis.com/laurencemoroney-blog.appspot.com/happy-or-sad.zip\" \\\n",
        "    -O \"/tmp/happy-or-sad.zip\"\n",
        "\n",
        "zip_ref = zipfile.ZipFile(\"/tmp/happy-or-sad.zip\", 'r')\n",
        "zip_ref.extractall(\"/tmp/h-or-s\")\n",
        "zip_ref.close()\n",
        "\n",
        "class myCallback(tf.keras.callbacks.Callback): # Your Code\n",
        "  # Your Code\n",
        "  def on_epoch_end(self, epoch, logs={}):\n",
        "    if (logs.get('acc')>DESIRED_ACCURACY):\n",
        "      self.model.stop_training=True\n",
        "\n",
        "callbacks = myCallback()"
      ],
      "execution_count": 28,
      "outputs": [
        {
          "output_type": "stream",
          "text": [
            "--2020-06-10 19:19:34--  https://storage.googleapis.com/laurencemoroney-blog.appspot.com/happy-or-sad.zip\n",
            "Resolving storage.googleapis.com (storage.googleapis.com)... 173.194.215.128, 2607:f8b0:400c:c12::80\n",
            "Connecting to storage.googleapis.com (storage.googleapis.com)|173.194.215.128|:443... connected.\n",
            "HTTP request sent, awaiting response... 200 OK\n",
            "Length: 2670333 (2.5M) [application/zip]\n",
            "Saving to: ‘/tmp/happy-or-sad.zip’\n",
            "\n",
            "\r/tmp/happy-or-sad.z   0%[                    ]       0  --.-KB/s               \r/tmp/happy-or-sad.z 100%[===================>]   2.55M  --.-KB/s    in 0.01s   \n",
            "\n",
            "2020-06-10 19:19:34 (170 MB/s) - ‘/tmp/happy-or-sad.zip’ saved [2670333/2670333]\n",
            "\n"
          ],
          "name": "stdout"
        }
      ]
    },
    {
      "cell_type": "code",
      "metadata": {
        "id": "LabqAd-GnNfY",
        "colab_type": "code",
        "colab": {}
      },
      "source": [
        "# This Code Block should Define and Compile the Model\n",
        "model = tf.keras.models.Sequential([\n",
        "# Your Code Here\n",
        "# the first convolution layer\n",
        "tf.keras.layers.Conv2D(16,(3,3),activation='relu',input_shape=(150,150,3)),\n",
        "tf.keras.layers.MaxPooling2D(2,2),\n",
        "# the second convolution layer\n",
        "tf.keras.layers.Conv2D(32,(3,3),activation='relu'),\n",
        "tf.keras.layers.MaxPooling2D(2,2),\n",
        "# the third convolution layer\n",
        "tf.keras.layers.Conv2D(64,(3,3),activation='relu'),\n",
        "tf.keras.layers.MaxPooling2D(2,2),\n",
        "# flatten the layer to feed into the DNN\n",
        "tf.keras.layers.Flatten(),\n",
        "# 512 neurons hidden layers\n",
        "tf.keras.layers.Dense(512, activation='relu'),\n",
        "# only the one output layer that will be a value from 0-1 where 0 is for 'horses' and 1 is for 'humans'\n",
        "tf.keras.layers.Dense(1, activation='sigmoid')\n",
        "])\n",
        "\n",
        "from tensorflow.keras.optimizers import RMSprop\n",
        "\n",
        "model.compile(loss='binary_crossentropy',\n",
        "          optimizer=RMSprop(lr=0.001),\n",
        "          metrics=['acc']) # Your Code Here #"
      ],
      "execution_count": 0,
      "outputs": []
    },
    {
      "cell_type": "code",
      "metadata": {
        "id": "Airn5Aq7nter",
        "colab_type": "code",
        "colab": {
          "base_uri": "https://localhost:8080/",
          "height": 34
        },
        "outputId": "a6c740d4-19e2-4598-ed1d-76ba03f62aac"
      },
      "source": [
        "# This code block should create an instance of an ImageDataGenerator called train_datagen \n",
        "# And a train_generator by calling train_datagen.flow_from_directory\n",
        "\n",
        "from tensorflow.keras.preprocessing.image import ImageDataGenerator\n",
        "\n",
        "train_datagen =  ImageDataGenerator(rescale=1/255) # Your Code Here\n",
        "\n",
        "train_generator = train_datagen.flow_from_directory(\n",
        "        # Your Code Here\n",
        "        '/tmp/h-or-s/',\n",
        "        target_size=(150,150),\n",
        "        batch_size=5,\n",
        "        class_mode='binary'\n",
        "        )\n",
        "\n",
        "# Expected output: 'Found 80 images belonging to 2 classes'"
      ],
      "execution_count": 30,
      "outputs": [
        {
          "output_type": "stream",
          "text": [
            "Found 80 images belonging to 2 classes.\n"
          ],
          "name": "stdout"
        }
      ]
    },
    {
      "cell_type": "code",
      "metadata": {
        "id": "wvP-d7SNn-VA",
        "colab_type": "code",
        "colab": {
          "base_uri": "https://localhost:8080/",
          "height": 454
        },
        "outputId": "2a644cbc-907a-41a9-e96f-52cd11f3bde2"
      },
      "source": [
        "# This code block should call model.fit and train for\n",
        "# a number of epochs. \n",
        "history = model.fit(\n",
        "      # Your Code Here\n",
        "      train_generator,\n",
        "      steps_per_epoch=8,\n",
        "      epochs=15,\n",
        "      verbose=1,\n",
        "      callbacks=[callbacks])\n",
        "    \n",
        "# Expected output: \"Reached 99.9% accuracy so cancelling training!\"\""
      ],
      "execution_count": 31,
      "outputs": [
        {
          "output_type": "stream",
          "text": [
            "Epoch 1/15\n",
            "8/8 [==============================] - 2s 221ms/step - loss: 2.3257 - acc: 0.6250\n",
            "Epoch 2/15\n",
            "8/8 [==============================] - 2s 221ms/step - loss: 0.6644 - acc: 0.5500\n",
            "Epoch 3/15\n",
            "8/8 [==============================] - 2s 218ms/step - loss: 0.5727 - acc: 0.7000\n",
            "Epoch 4/15\n",
            "8/8 [==============================] - 2s 215ms/step - loss: 0.5801 - acc: 0.6250\n",
            "Epoch 5/15\n",
            "8/8 [==============================] - 2s 217ms/step - loss: 0.2481 - acc: 0.9250\n",
            "Epoch 6/15\n",
            "8/8 [==============================] - 2s 214ms/step - loss: 0.0857 - acc: 0.9750\n",
            "Epoch 7/15\n",
            "8/8 [==============================] - 2s 217ms/step - loss: 0.2946 - acc: 0.9000\n",
            "Epoch 8/15\n",
            "8/8 [==============================] - 2s 218ms/step - loss: 0.1272 - acc: 0.9250\n",
            "Epoch 9/15\n",
            "8/8 [==============================] - 2s 216ms/step - loss: 0.0855 - acc: 0.9750\n",
            "Epoch 10/15\n",
            "8/8 [==============================] - 2s 219ms/step - loss: 0.0670 - acc: 0.9750\n",
            "Epoch 11/15\n",
            "8/8 [==============================] - 2s 218ms/step - loss: 0.2216 - acc: 0.9500\n",
            "Epoch 12/15\n",
            "8/8 [==============================] - 2s 220ms/step - loss: 0.2211 - acc: 0.8750\n",
            "Epoch 13/15\n",
            "8/8 [==============================] - 2s 220ms/step - loss: 0.0175 - acc: 1.0000\n"
          ],
          "name": "stdout"
        }
      ]
    }
  ]
}