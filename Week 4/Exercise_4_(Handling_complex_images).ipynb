{
  "nbformat": 4,
  "nbformat_minor": 0,
  "metadata": {
    "colab": {
      "name": "Exercise 4 (Handling complex images).ipynb",
      "provenance": [],
      "collapsed_sections": []
    },
    "kernelspec": {
      "name": "python3",
      "display_name": "Python 3"
    }
  },
  "cells": [
    {
      "cell_type": "markdown",
      "metadata": {
        "id": "Rus2qYxPi8aR",
        "colab_type": "text"
      },
      "source": [
        "**Exercise 4 (Handling complex images)**"
      ]
    },
    {
      "cell_type": "markdown",
      "metadata": {
        "id": "AwaYtSyxitnL",
        "colab_type": "text"
      },
      "source": [
        "Below is code with a link to a happy or sad dataset which contains 80 images, 40 happy and 40 sad. Create a convolutional neural network that trains to 100% accuracy on these images, which cancels training upon hitting training accuracy of >.999\n",
        "\n",
        "Hint -- it will work best with 3 convolutional layers"
      ]
    },
    {
      "cell_type": "markdown",
      "metadata": {
        "id": "H908yhETLcJW",
        "colab_type": "text"
      },
      "source": [
        "Let’s now create your own image classifier for complex images. See if you can create a classifier for a set of happy or sad images that I’ve provided. Use a callback to cancel training once accuracy is greater than .999.\n",
        "\n",
        "**NOTE: Please do not modify any of the code already provided in the Exercise question, and please only add your additional code in the indicated areas marked by the comments. Once you have completed your notebook assignment and received a final score, please save your notebook, run the final cell, and close your Jupyter Workspace. This will help optimize your Jupyter workspace performance for future assessments. Please note that this step will shut down your kernel, so it is important to save your work in advance of completing this step**"
      ]
    },
    {
      "cell_type": "code",
      "metadata": {
        "id": "WL5qG4dSZA1h",
        "colab_type": "code",
        "colab": {}
      },
      "source": [
        "import tensorflow as tf\n",
        "import os\n",
        "import zipfile\n",
        "import urllib\n",
        "# from os import path, getcwd, chdir  # commented as working in Colab\n",
        "urllib.request.urlretrieve(\"https://storage.googleapis.com/laurencemoroney-blog.appspot.com/happy-or-sad.zip\",filename=\"/tmp/happy-or-sad.zip\")\n",
        "\n",
        "# DO NOT CHANGE THE LINE BELOW. If you are developing in a local\n",
        "# environment, then grab happy-or-sad.zip from the Coursera Jupyter Notebook\n",
        "# and place it inside a local folder and edit the path to that location\n",
        "# path = f\"{getcwd()}/../tmp2/happy-or-sad.zip\"  # commented as working in Colab\n",
        "path=\"/tmp/happy-or-sad.zip\"\n",
        "zip_ref = zipfile.ZipFile(path, 'r')\n",
        "zip_ref.extractall(\"/tmp/h-or-s\")\n",
        "zip_ref.close()"
      ],
      "execution_count": 0,
      "outputs": []
    },
    {
      "cell_type": "code",
      "metadata": {
        "id": "PYkhqQLngdlW",
        "colab_type": "code",
        "colab": {}
      },
      "source": [
        "# GRADED FUNCTION: train_happy_sad_model\n",
        "def train_happy_sad_model():\n",
        "    # Please write your code only where you are indicated.\n",
        "    # please do not remove # model fitting inline comments.\n",
        "\n",
        "    DESIRED_ACCURACY = 0.999\n",
        "\n",
        "    class myCallback(tf.keras.callbacks.Callback): # your code\n",
        "         # Your Code\n",
        "         def on_epoch_end(self, epoch, logs={}):\n",
        "           if (logs.get('acc')>DESIRED_ACCURACY):\n",
        "             self.model.stop_training=True\n",
        "\n",
        "    callbacks = myCallback()\n",
        "    \n",
        "    # This Code Block should Define and Compile the Model. Please assume the images are 150 X 150 in your implementation.\n",
        "    model = tf.keras.models.Sequential([\n",
        "        # Your Code Here\n",
        "        # the first convolution layer\n",
        "        tf.keras.layers.Conv2D(16,(3,3),activation='relu',input_shape=(150,150,3)),\n",
        "        tf.keras.layers.MaxPooling2D(2,2),\n",
        "        # the second convolution layer\n",
        "        tf.keras.layers.Conv2D(32,(3,3),activation='relu'),\n",
        "        tf.keras.layers.MaxPooling2D(2,2),\n",
        "        # the third convolution layer\n",
        "        tf.keras.layers.Conv2D(64,(3,3),activation='relu'),\n",
        "        tf.keras.layers.MaxPooling2D(2,2),\n",
        "        # flatten the layer to feed into the DNN\n",
        "        tf.keras.layers.Flatten(),\n",
        "        # 512 neurons hidden layers\n",
        "        tf.keras.layers.Dense(512, activation='relu'),\n",
        "        # only the one output layer that will be a value from 0-1 where 0 is for 'horses' and 1 is for 'humans'\n",
        "        tf.keras.layers.Dense(1, activation='sigmoid')        \n",
        "    ])\n",
        "\n",
        "    from tensorflow.keras.optimizers import RMSprop\n",
        "\n",
        "    model.compile(loss='binary_crossentropy',\n",
        "              optimizer=RMSprop(lr=0.001),\n",
        "              metrics=['acc']) # Your Code Here #\n",
        "        \n",
        "\n",
        "    # This code block should create an instance of an ImageDataGenerator called train_datagen \n",
        "    # And a train_generator by calling train_datagen.flow_from_directory\n",
        "\n",
        "    from tensorflow.keras.preprocessing.image import ImageDataGenerator\n",
        "\n",
        "    train_datagen = ImageDataGenerator(rescale=1/255) # Your Code Here\n",
        "\n",
        "    # Please use a target_size of 150 X 150.\n",
        "    train_generator = train_datagen.flow_from_directory(\n",
        "        # Your Code Here\n",
        "        '/tmp/h-or-s/',\n",
        "        target_size=(150,150),\n",
        "        batch_size=5,\n",
        "        class_mode='binary'\n",
        "        ) \n",
        "    # Expected output: 'Found 80 images belonging to 2 classes'\n",
        "\n",
        "    # This code block should call model.fit_generator and train for\n",
        "    # a number of epochs.\n",
        "    # model fitting\n",
        "    history = model.fit_generator(\n",
        "          # Your Code Here\n",
        "          train_generator,\n",
        "          steps_per_epoch=8,\n",
        "          epochs=15,\n",
        "          verbose=1,\n",
        "          callbacks=[callbacks]\n",
        "          )\n",
        "    # model fitting\n",
        "    return history.history['acc'][-1]"
      ],
      "execution_count": 0,
      "outputs": []
    },
    {
      "cell_type": "code",
      "metadata": {
        "id": "84QvKYPVLpPd",
        "colab_type": "code",
        "colab": {
          "base_uri": "https://localhost:8080/",
          "height": 286
        },
        "outputId": "848f07fe-040b-47a1-cf48-c4fd231b564b"
      },
      "source": [
        "# The Expected output: \"Reached 99.9% accuracy so cancelling training!\"\"\n",
        "train_happy_sad_model()"
      ],
      "execution_count": 11,
      "outputs": [
        {
          "output_type": "stream",
          "text": [
            "Found 80 images belonging to 2 classes.\n",
            "Epoch 1/15\n",
            "8/8 [==============================] - 2s 215ms/step - loss: 4.5540 - acc: 0.5500\n",
            "Epoch 2/15\n",
            "8/8 [==============================] - 2s 212ms/step - loss: 0.6612 - acc: 0.5750\n",
            "Epoch 3/15\n",
            "8/8 [==============================] - 2s 215ms/step - loss: 0.5995 - acc: 0.6000\n",
            "Epoch 4/15\n",
            "8/8 [==============================] - 2s 213ms/step - loss: 0.3847 - acc: 0.8250\n",
            "Epoch 5/15\n",
            "8/8 [==============================] - 2s 215ms/step - loss: 0.3176 - acc: 0.8750\n",
            "Epoch 6/15\n",
            "8/8 [==============================] - 2s 213ms/step - loss: 0.1183 - acc: 0.9750\n",
            "Epoch 7/15\n",
            "8/8 [==============================] - 2s 213ms/step - loss: 0.0332 - acc: 1.0000\n"
          ],
          "name": "stdout"
        },
        {
          "output_type": "execute_result",
          "data": {
            "text/plain": [
              "1.0"
            ]
          },
          "metadata": {
            "tags": []
          },
          "execution_count": 11
        }
      ]
    },
    {
      "cell_type": "code",
      "metadata": {
        "id": "tWVbxD8VLr8V",
        "colab_type": "code",
        "colab": {}
      },
      "source": [
        "# Now click the 'Submit Assignment' button above.\n",
        "# Once that is complete, please run the following two cells to save your work and close the notebook"
      ],
      "execution_count": 0,
      "outputs": []
    },
    {
      "cell_type": "code",
      "metadata": {
        "id": "WDnocllgLtEs",
        "colab_type": "code",
        "colab": {
          "base_uri": "https://localhost:8080/",
          "height": 17
        },
        "outputId": "27414900-bcff-4252-f04b-20b84a7f1b42"
      },
      "source": [
        "%%javascript\n",
        "<!-- Save the notebook -->\n",
        "IPython.notebook.save_checkpoint();"
      ],
      "execution_count": 12,
      "outputs": [
        {
          "output_type": "display_data",
          "data": {
            "application/javascript": [
              "<!-- Save the notebook -->\n",
              "IPython.notebook.save_checkpoint();"
            ],
            "text/plain": [
              "<IPython.core.display.Javascript object>"
            ]
          },
          "metadata": {
            "tags": []
          }
        }
      ]
    },
    {
      "cell_type": "code",
      "metadata": {
        "id": "LTbsRT_sLuQN",
        "colab_type": "code",
        "colab": {
          "base_uri": "https://localhost:8080/",
          "height": 17
        },
        "outputId": "212f2f4b-01bc-4767-a99e-c0e6ed8ce139"
      },
      "source": [
        "%%javascript\n",
        "IPython.notebook.session.delete();\n",
        "window.onbeforeunload = null\n",
        "setTimeout(function() { window.close(); }, 1000);"
      ],
      "execution_count": 13,
      "outputs": [
        {
          "output_type": "display_data",
          "data": {
            "application/javascript": [
              "IPython.notebook.session.delete();\n",
              "window.onbeforeunload = null\n",
              "setTimeout(function() { window.close(); }, 1000);"
            ],
            "text/plain": [
              "<IPython.core.display.Javascript object>"
            ]
          },
          "metadata": {
            "tags": []
          }
        }
      ]
    }
  ]
}